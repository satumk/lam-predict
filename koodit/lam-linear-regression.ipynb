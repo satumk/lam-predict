{
 "cells": [
  {
   "cell_type": "code",
   "execution_count": 1,
   "metadata": {},
   "outputs": [
    {
     "data": {
      "text/html": [
       "<div>\n",
       "<style scoped>\n",
       "    .dataframe tbody tr th:only-of-type {\n",
       "        vertical-align: middle;\n",
       "    }\n",
       "\n",
       "    .dataframe tbody tr th {\n",
       "        vertical-align: top;\n",
       "    }\n",
       "\n",
       "    .dataframe thead th {\n",
       "        text-align: right;\n",
       "    }\n",
       "</style>\n",
       "<table border=\"1\" class=\"dataframe\">\n",
       "  <thead>\n",
       "    <tr style=\"text-align: right;\">\n",
       "      <th></th>\n",
       "      <th>Aika</th>\n",
       "      <th>N</th>\n",
       "    </tr>\n",
       "  </thead>\n",
       "  <tbody>\n",
       "    <tr>\n",
       "      <td>0</td>\n",
       "      <td>2020-01-01 00:00:00</td>\n",
       "      <td>12650.0</td>\n",
       "    </tr>\n",
       "    <tr>\n",
       "      <td>1</td>\n",
       "      <td>2020-01-01 01:00:00</td>\n",
       "      <td>11666.0</td>\n",
       "    </tr>\n",
       "    <tr>\n",
       "      <td>2</td>\n",
       "      <td>2020-01-01 02:00:00</td>\n",
       "      <td>8620.0</td>\n",
       "    </tr>\n",
       "    <tr>\n",
       "      <td>3</td>\n",
       "      <td>2020-01-01 03:00:00</td>\n",
       "      <td>6654.0</td>\n",
       "    </tr>\n",
       "    <tr>\n",
       "      <td>4</td>\n",
       "      <td>2020-01-01 04:00:00</td>\n",
       "      <td>5784.0</td>\n",
       "    </tr>\n",
       "  </tbody>\n",
       "</table>\n",
       "</div>"
      ],
      "text/plain": [
       "                  Aika        N\n",
       "0  2020-01-01 00:00:00  12650.0\n",
       "1  2020-01-01 01:00:00  11666.0\n",
       "2  2020-01-01 02:00:00   8620.0\n",
       "3  2020-01-01 03:00:00   6654.0\n",
       "4  2020-01-01 04:00:00   5784.0"
      ]
     },
     "execution_count": 1,
     "metadata": {},
     "output_type": "execute_result"
    }
   ],
   "source": [
    "from sklearn import linear_model\n",
    "import matplotlib.pyplot as plt\n",
    "from sklearn.metrics import mean_absolute_error\n",
    "import numpy as np\n",
    "import pandas as pd\n",
    "\n",
    "df = pd.read_csv('lam_data_processed.csv')\n",
    "df.head()"
   ]
  },
  {
   "cell_type": "code",
   "execution_count": 6,
   "metadata": {},
   "outputs": [],
   "source": [
    "# first slice of data, where the training data is all data before March and test data are first 2 weeks of March\n",
    "train1 = df[df['Aika'] < '2020-03-01 00:00:00']\n",
    "train2 = df[df['Aika'] < '2020-03-15 00:00:00']\n",
    "train3 = df[df['Aika'] < '2020-04-01 00:00:00']\n",
    "train4 = df[df['Aika'] < '2020-04-15 00:00:00']\n",
    "train5 = df[df['Aika'] < '2020-05-01 00:00:00']\n",
    "train6 = df[df['Aika'] < '2020-05-15 00:00:00']\n",
    "train_data_list = [train1, train2, train3, train4, train5, train6]"
   ]
  },
  {
   "cell_type": "code",
   "execution_count": 13,
   "metadata": {},
   "outputs": [],
   "source": [
    "# test-data's always the next 2 weeks of real data\n",
    "test1 = df[(df['Aika'] >= '2020-03-01 00:00:00') & (df['Aika'] < '2020-03-15 00:00:00')]\n",
    "test2 = df[(df['Aika'] >= '2020-03-15 00:00:00') & (df['Aika'] < '2020-04-01 00:00:00')]\n",
    "test3 = df[(df['Aika'] >= '2020-04-01 00:00:00') & (df['Aika'] < '2020-04-15 00:00:00')]\n",
    "test4 = df[(df['Aika'] >= '2020-04-15 00:00:00') & (df['Aika'] < '2020-05-01 00:00:00')]\n",
    "test5 = df[(df['Aika'] >= '2020-05-01 00:00:00') & (df['Aika'] < '2020-05-15 00:00:00')]\n",
    "test6 = df[(df['Aika'] >= '2020-05-15 00:00:00') & (df['Aika'] < '2020-06-01 00:00:00')]\n",
    "test_data_list = [test1, test2, test3, test4, test5, test6]"
   ]
  },
  {
   "cell_type": "code",
   "execution_count": 16,
   "metadata": {},
   "outputs": [
    {
     "name": "stderr",
     "output_type": "stream",
     "text": [
      "/Users/samame/opt/anaconda3/lib/python3.7/site-packages/ipykernel_launcher.py:3: SettingWithCopyWarning: \n",
      "A value is trying to be set on a copy of a slice from a DataFrame.\n",
      "Try using .loc[row_indexer,col_indexer] = value instead\n",
      "\n",
      "See the caveats in the documentation: http://pandas.pydata.org/pandas-docs/stable/user_guide/indexing.html#returning-a-view-versus-a-copy\n",
      "  This is separate from the ipykernel package so we can avoid doing imports until\n",
      "/Users/samame/opt/anaconda3/lib/python3.7/site-packages/ipykernel_launcher.py:4: SettingWithCopyWarning: \n",
      "A value is trying to be set on a copy of a slice from a DataFrame.\n",
      "Try using .loc[row_indexer,col_indexer] = value instead\n",
      "\n",
      "See the caveats in the documentation: http://pandas.pydata.org/pandas-docs/stable/user_guide/indexing.html#returning-a-view-versus-a-copy\n",
      "  after removing the cwd from sys.path.\n"
     ]
    },
    {
     "data": {
      "text/plain": [
       "[                     Aika        N  order  traffic_future\n",
       " 1440  2020-03-01 00:00:00   4182.0  -1104             NaN\n",
       " 1441  2020-03-01 01:00:00   3008.0  -1105             NaN\n",
       " 1442  2020-03-01 02:00:00   2416.0  -1106             NaN\n",
       " 1443  2020-03-01 03:00:00   2021.0  -1107             NaN\n",
       " 1444  2020-03-01 04:00:00   2091.0  -1108             NaN\n",
       " ...                   ...      ...    ...             ...\n",
       " 1771  2020-03-14 19:00:00  11835.0  -1435             NaN\n",
       " 1772  2020-03-14 20:00:00   9280.0  -1436             NaN\n",
       " 1773  2020-03-14 21:00:00   7354.0  -1437             NaN\n",
       " 1774  2020-03-14 22:00:00   5592.0  -1438             NaN\n",
       " 1775  2020-03-14 23:00:00   4371.0  -1439             NaN\n",
       " \n",
       " [336 rows x 4 columns],\n",
       "                      Aika        N  order  traffic_future\n",
       " 1776  2020-03-15 00:00:00   3235.0  -1368             NaN\n",
       " 1777  2020-03-15 01:00:00   2418.0  -1369             NaN\n",
       " 1778  2020-03-15 02:00:00   1925.0  -1370             NaN\n",
       " 1779  2020-03-15 03:00:00   1714.0  -1371             NaN\n",
       " 1780  2020-03-15 04:00:00   1635.0  -1372             NaN\n",
       " ...                   ...      ...    ...             ...\n",
       " 2179  2020-03-31 19:00:00  10178.0  -1771         12484.0\n",
       " 2180  2020-03-31 20:00:00   7988.0  -1772          9287.0\n",
       " 2181  2020-03-31 21:00:00   6144.0  -1773          6668.0\n",
       " 2182  2020-03-31 22:00:00   3970.0  -1774          4286.0\n",
       " 2183  2020-03-31 23:00:00   2337.0  -1775          2614.0\n",
       " \n",
       " [408 rows x 4 columns],\n",
       "                      Aika        N  order  traffic_future\n",
       " 2184  2020-04-01 00:00:00   1406.0  -1848             NaN\n",
       " 2185  2020-04-01 01:00:00    942.0  -1849             NaN\n",
       " 2186  2020-04-01 02:00:00    795.0  -1850             NaN\n",
       " 2187  2020-04-01 03:00:00    806.0  -1851             NaN\n",
       " 2188  2020-04-01 04:00:00   1658.0  -1852             NaN\n",
       " ...                   ...      ...    ...             ...\n",
       " 2515  2020-04-14 19:00:00  10932.0  -2179             NaN\n",
       " 2516  2020-04-14 20:00:00   8269.0  -2180             NaN\n",
       " 2517  2020-04-14 21:00:00   6346.0  -2181             NaN\n",
       " 2518  2020-04-14 22:00:00   3901.0  -2182             NaN\n",
       " 2519  2020-04-14 23:00:00   2314.0  -2183             NaN\n",
       " \n",
       " [336 rows x 4 columns],\n",
       "                      Aika        N  order  traffic_future\n",
       " 2520  2020-04-15 00:00:00   1384.0  -2136             NaN\n",
       " 2521  2020-04-15 01:00:00    948.0  -2137             NaN\n",
       " 2522  2020-04-15 02:00:00    772.0  -2138             NaN\n",
       " 2523  2020-04-15 03:00:00    799.0  -2139             NaN\n",
       " 2524  2020-04-15 04:00:00   1575.0  -2140             NaN\n",
       " ...                   ...      ...    ...             ...\n",
       " 2899  2020-04-30 19:00:00  13500.0  -2515         12795.0\n",
       " 2900  2020-04-30 20:00:00  10367.0  -2516          9700.0\n",
       " 2901  2020-04-30 21:00:00   7760.0  -2517          7256.0\n",
       " 2902  2020-04-30 22:00:00   5469.0  -2518          4390.0\n",
       " 2903  2020-04-30 23:00:00   3999.0  -2519          2598.0\n",
       " \n",
       " [384 rows x 4 columns],\n",
       "                      Aika        N  order  traffic_future\n",
       " 2904  2020-05-01 00:00:00   3017.0  -2568             NaN\n",
       " 2905  2020-05-01 01:00:00   2205.0  -2569             NaN\n",
       " 2906  2020-05-01 02:00:00   1676.0  -2570             NaN\n",
       " 2907  2020-05-01 03:00:00   1285.0  -2571             NaN\n",
       " 2908  2020-05-01 04:00:00   1181.0  -2572             NaN\n",
       " ...                   ...      ...    ...             ...\n",
       " 3235  2020-05-14 19:00:00  16064.0  -2899             NaN\n",
       " 3236  2020-05-14 20:00:00  12190.0  -2900             NaN\n",
       " 3237  2020-05-14 21:00:00   8717.0  -2901             NaN\n",
       " 3238  2020-05-14 22:00:00   5361.0  -2902             NaN\n",
       " 3239  2020-05-14 23:00:00   3078.0  -2903             NaN\n",
       " \n",
       " [336 rows x 4 columns],\n",
       "                      Aika        N  order  traffic_future\n",
       " 3240  2020-05-15 00:00:00   1845.0  -2832             NaN\n",
       " 3241  2020-05-15 01:00:00   1196.0  -2833             NaN\n",
       " 3242  2020-05-15 02:00:00    911.0  -2834             NaN\n",
       " 3243  2020-05-15 03:00:00    927.0  -2835             NaN\n",
       " 3244  2020-05-15 04:00:00   1840.0  -2836             NaN\n",
       " ...                   ...      ...    ...             ...\n",
       " 3643  2020-05-31 19:00:00  20311.0  -3235         15522.0\n",
       " 3644  2020-05-31 20:00:00  15807.0  -3236         11637.0\n",
       " 3645  2020-05-31 21:00:00  11239.0  -3237          8300.0\n",
       " 3646  2020-05-31 22:00:00   6435.0  -3238          4527.0\n",
       " 3647  2020-05-31 23:00:00   3558.0  -3239          2636.0\n",
       " \n",
       " [408 rows x 4 columns]]"
      ]
     },
     "execution_count": 16,
     "metadata": {},
     "output_type": "execute_result"
    }
   ],
   "source": [
    "def pre_modify_data(data_list) :\n",
    "    for data in data_list :\n",
    "        data['order'] = data.apply(lambda row: len(data) - row.name, axis=1)\n",
    "        data['traffic_future'] = data['N'].shift(336) # 14 vuorokautta * 24t => 336t\n",
    "        data = data.dropna()\n",
    "    return data_list\n",
    "\n",
    "pre_modify_data(train_data_list)\n",
    "pre_modify_data(test_data_list)"
   ]
  },
  {
   "cell_type": "code",
   "execution_count": 17,
   "metadata": {},
   "outputs": [
    {
     "name": "stderr",
     "output_type": "stream",
     "text": [
      "/Users/samame/opt/anaconda3/lib/python3.7/site-packages/ipykernel_launcher.py:6: SettingWithCopyWarning: \n",
      "A value is trying to be set on a copy of a slice from a DataFrame.\n",
      "Try using .loc[row_indexer,col_indexer] = value instead\n",
      "\n",
      "See the caveats in the documentation: http://pandas.pydata.org/pandas-docs/stable/user_guide/indexing.html#returning-a-view-versus-a-copy\n",
      "  \n"
     ]
    }
   ],
   "source": [
    "# Muuttujat numpy-muotoon analyyseja varten\n",
    "X = np.array(train1[['order', 'N']]) # input-muuttujat\n",
    "y = np.array(train1['traffic_future']) # output-muuttuja\n",
    "model = linear_model.LinearRegression()\n",
    "model.fit(X, y)\n",
    "train1['Ennuste'] = model.predict(X)"
   ]
  },
  {
   "cell_type": "code",
   "execution_count": null,
   "metadata": {},
   "outputs": [],
   "source": []
  }
 ],
 "metadata": {
  "kernelspec": {
   "display_name": "Python 3",
   "language": "python",
   "name": "python3"
  },
  "language_info": {
   "codemirror_mode": {
    "name": "ipython",
    "version": 3
   },
   "file_extension": ".py",
   "mimetype": "text/x-python",
   "name": "python",
   "nbconvert_exporter": "python",
   "pygments_lexer": "ipython3",
   "version": "3.7.4"
  }
 },
 "nbformat": 4,
 "nbformat_minor": 2
}
