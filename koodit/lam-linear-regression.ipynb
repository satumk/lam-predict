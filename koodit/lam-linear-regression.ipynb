{
 "cells": [
  {
   "cell_type": "code",
   "execution_count": 274,
   "metadata": {},
   "outputs": [
    {
     "data": {
      "text/html": [
       "<div>\n",
       "<style scoped>\n",
       "    .dataframe tbody tr th:only-of-type {\n",
       "        vertical-align: middle;\n",
       "    }\n",
       "\n",
       "    .dataframe tbody tr th {\n",
       "        vertical-align: top;\n",
       "    }\n",
       "\n",
       "    .dataframe thead th {\n",
       "        text-align: right;\n",
       "    }\n",
       "</style>\n",
       "<table border=\"1\" class=\"dataframe\">\n",
       "  <thead>\n",
       "    <tr style=\"text-align: right;\">\n",
       "      <th></th>\n",
       "      <th>Aika</th>\n",
       "      <th>N</th>\n",
       "    </tr>\n",
       "  </thead>\n",
       "  <tbody>\n",
       "    <tr>\n",
       "      <td>0</td>\n",
       "      <td>2020-01-01 00:00:00</td>\n",
       "      <td>12650.0</td>\n",
       "    </tr>\n",
       "    <tr>\n",
       "      <td>1</td>\n",
       "      <td>2020-01-01 01:00:00</td>\n",
       "      <td>11666.0</td>\n",
       "    </tr>\n",
       "    <tr>\n",
       "      <td>2</td>\n",
       "      <td>2020-01-01 02:00:00</td>\n",
       "      <td>8620.0</td>\n",
       "    </tr>\n",
       "    <tr>\n",
       "      <td>3</td>\n",
       "      <td>2020-01-01 03:00:00</td>\n",
       "      <td>6654.0</td>\n",
       "    </tr>\n",
       "    <tr>\n",
       "      <td>4</td>\n",
       "      <td>2020-01-01 04:00:00</td>\n",
       "      <td>5784.0</td>\n",
       "    </tr>\n",
       "  </tbody>\n",
       "</table>\n",
       "</div>"
      ],
      "text/plain": [
       "                  Aika        N\n",
       "0  2020-01-01 00:00:00  12650.0\n",
       "1  2020-01-01 01:00:00  11666.0\n",
       "2  2020-01-01 02:00:00   8620.0\n",
       "3  2020-01-01 03:00:00   6654.0\n",
       "4  2020-01-01 04:00:00   5784.0"
      ]
     },
     "execution_count": 274,
     "metadata": {},
     "output_type": "execute_result"
    }
   ],
   "source": [
    "from sklearn import linear_model\n",
    "import matplotlib.pyplot as plt\n",
    "from sklearn.metrics import mean_absolute_error\n",
    "import numpy as np\n",
    "import pandas as pd\n",
    "\n",
    "df = pd.read_csv('lam_data_processed.csv')\n",
    "df.head()"
   ]
  },
  {
   "cell_type": "code",
   "execution_count": 275,
   "metadata": {},
   "outputs": [],
   "source": [
    "# first slice of data, where the training data is all data before March and test data are first 2 weeks of March\n",
    "train1 = df[df['Aika'] < '2020-03-01 00:00:00']\n",
    "train2 = df[df['Aika'] < '2020-03-15 00:00:00']\n",
    "train3 = df[df['Aika'] < '2020-04-01 00:00:00']\n",
    "train4 = df[df['Aika'] < '2020-04-15 00:00:00']\n",
    "train5 = df[df['Aika'] < '2020-05-01 00:00:00']\n",
    "train6 = df[df['Aika'] < '2020-05-15 00:00:00']\n",
    "train_data_unprocessed = [train1, train2, train3, train4, train5, train6]"
   ]
  },
  {
   "cell_type": "code",
   "execution_count": 276,
   "metadata": {},
   "outputs": [],
   "source": [
    "def pre_modify_traindata(data_list) :\n",
    "    clean = []\n",
    "\n",
    "    for data in data_list :\n",
    "        clean_df = data.copy()\n",
    "        clean_df['order'] = clean_df.apply(lambda row: len(clean_df) - row.name, axis=1)\n",
    "        clean_df['traffic_future'] = clean_df['N'].shift(336) # 14 vuorokautta * 24t => 336t\n",
    "        clean_df = clean_df.dropna()\n",
    "        clean.append(clean_df)\n",
    "    \n",
    "    return clean\n",
    "\n",
    "train_datas = pre_modify_traindata(train_data_unprocessed)"
   ]
  },
  {
   "cell_type": "code",
   "execution_count": 277,
   "metadata": {},
   "outputs": [
    {
     "data": {
      "text/html": [
       "<div>\n",
       "<style scoped>\n",
       "    .dataframe tbody tr th:only-of-type {\n",
       "        vertical-align: middle;\n",
       "    }\n",
       "\n",
       "    .dataframe tbody tr th {\n",
       "        vertical-align: top;\n",
       "    }\n",
       "\n",
       "    .dataframe thead th {\n",
       "        text-align: right;\n",
       "    }\n",
       "</style>\n",
       "<table border=\"1\" class=\"dataframe\">\n",
       "  <thead>\n",
       "    <tr style=\"text-align: right;\">\n",
       "      <th></th>\n",
       "      <th>Aika</th>\n",
       "      <th>N</th>\n",
       "      <th>order</th>\n",
       "      <th>traffic_future</th>\n",
       "    </tr>\n",
       "  </thead>\n",
       "  <tbody>\n",
       "    <tr>\n",
       "      <td>336</td>\n",
       "      <td>2020-01-15 00:00:00</td>\n",
       "      <td>1620.0</td>\n",
       "      <td>1104</td>\n",
       "      <td>12650.0</td>\n",
       "    </tr>\n",
       "    <tr>\n",
       "      <td>337</td>\n",
       "      <td>2020-01-15 01:00:00</td>\n",
       "      <td>1127.0</td>\n",
       "      <td>1103</td>\n",
       "      <td>11666.0</td>\n",
       "    </tr>\n",
       "    <tr>\n",
       "      <td>338</td>\n",
       "      <td>2020-01-15 02:00:00</td>\n",
       "      <td>1037.0</td>\n",
       "      <td>1102</td>\n",
       "      <td>8620.0</td>\n",
       "    </tr>\n",
       "    <tr>\n",
       "      <td>339</td>\n",
       "      <td>2020-01-15 03:00:00</td>\n",
       "      <td>997.0</td>\n",
       "      <td>1101</td>\n",
       "      <td>6654.0</td>\n",
       "    </tr>\n",
       "    <tr>\n",
       "      <td>340</td>\n",
       "      <td>2020-01-15 04:00:00</td>\n",
       "      <td>2034.0</td>\n",
       "      <td>1100</td>\n",
       "      <td>5784.0</td>\n",
       "    </tr>\n",
       "  </tbody>\n",
       "</table>\n",
       "</div>"
      ],
      "text/plain": [
       "                    Aika       N  order  traffic_future\n",
       "336  2020-01-15 00:00:00  1620.0   1104         12650.0\n",
       "337  2020-01-15 01:00:00  1127.0   1103         11666.0\n",
       "338  2020-01-15 02:00:00  1037.0   1102          8620.0\n",
       "339  2020-01-15 03:00:00   997.0   1101          6654.0\n",
       "340  2020-01-15 04:00:00  2034.0   1100          5784.0"
      ]
     },
     "execution_count": 277,
     "metadata": {},
     "output_type": "execute_result"
    }
   ],
   "source": [
    "train_datas[0].head()"
   ]
  },
  {
   "cell_type": "code",
   "execution_count": 278,
   "metadata": {},
   "outputs": [],
   "source": [
    "# test-data's always the next 2 weeks of real data\n",
    "test1 = df[(df['Aika'] >= '2020-03-01 00:00:00') & (df['Aika'] < '2020-03-15 00:00:00')]\n",
    "test2 = df[(df['Aika'] >= '2020-03-15 00:00:00') & (df['Aika'] < '2020-04-01 00:00:00')]\n",
    "test3 = df[(df['Aika'] >= '2020-04-01 00:00:00') & (df['Aika'] < '2020-04-15 00:00:00')]\n",
    "test4 = df[(df['Aika'] >= '2020-04-15 00:00:00') & (df['Aika'] < '2020-05-01 00:00:00')]\n",
    "test5 = df[(df['Aika'] >= '2020-05-01 00:00:00') & (df['Aika'] < '2020-05-15 00:00:00')]\n",
    "test6 = df[(df['Aika'] >= '2020-05-15 00:00:00') & (df['Aika'] < '2020-06-01 00:00:00')]\n",
    "test_data_unprocessed = [test1, test2, test3, test4, test5, test6]"
   ]
  },
  {
   "cell_type": "code",
   "execution_count": 279,
   "metadata": {},
   "outputs": [],
   "source": [
    "def modify_testdata(list_testdata) :\n",
    "    clean = []\n",
    "    \n",
    "    for data in list_testdata :\n",
    "        clean_test = data.copy()\n",
    "        clean_test['order'] = clean_test.apply(lambda row: len(clean_test) + clean_test.index.values[0]\n",
    "                                           - row.name, axis=1)\n",
    "        clean.append(clean_test)\n",
    "        \n",
    "    return clean\n",
    "\n",
    "test_datas = modify_testdata(test_data_unprocessed)"
   ]
  },
  {
   "cell_type": "code",
   "execution_count": 280,
   "metadata": {},
   "outputs": [
    {
     "data": {
      "text/html": [
       "<div>\n",
       "<style scoped>\n",
       "    .dataframe tbody tr th:only-of-type {\n",
       "        vertical-align: middle;\n",
       "    }\n",
       "\n",
       "    .dataframe tbody tr th {\n",
       "        vertical-align: top;\n",
       "    }\n",
       "\n",
       "    .dataframe thead th {\n",
       "        text-align: right;\n",
       "    }\n",
       "</style>\n",
       "<table border=\"1\" class=\"dataframe\">\n",
       "  <thead>\n",
       "    <tr style=\"text-align: right;\">\n",
       "      <th></th>\n",
       "      <th>Aika</th>\n",
       "      <th>N</th>\n",
       "      <th>order</th>\n",
       "    </tr>\n",
       "  </thead>\n",
       "  <tbody>\n",
       "    <tr>\n",
       "      <td>1440</td>\n",
       "      <td>2020-03-01 00:00:00</td>\n",
       "      <td>4182.0</td>\n",
       "      <td>336</td>\n",
       "    </tr>\n",
       "    <tr>\n",
       "      <td>1441</td>\n",
       "      <td>2020-03-01 01:00:00</td>\n",
       "      <td>3008.0</td>\n",
       "      <td>335</td>\n",
       "    </tr>\n",
       "    <tr>\n",
       "      <td>1442</td>\n",
       "      <td>2020-03-01 02:00:00</td>\n",
       "      <td>2416.0</td>\n",
       "      <td>334</td>\n",
       "    </tr>\n",
       "    <tr>\n",
       "      <td>1443</td>\n",
       "      <td>2020-03-01 03:00:00</td>\n",
       "      <td>2021.0</td>\n",
       "      <td>333</td>\n",
       "    </tr>\n",
       "    <tr>\n",
       "      <td>1444</td>\n",
       "      <td>2020-03-01 04:00:00</td>\n",
       "      <td>2091.0</td>\n",
       "      <td>332</td>\n",
       "    </tr>\n",
       "  </tbody>\n",
       "</table>\n",
       "</div>"
      ],
      "text/plain": [
       "                     Aika       N  order\n",
       "1440  2020-03-01 00:00:00  4182.0    336\n",
       "1441  2020-03-01 01:00:00  3008.0    335\n",
       "1442  2020-03-01 02:00:00  2416.0    334\n",
       "1443  2020-03-01 03:00:00  2021.0    333\n",
       "1444  2020-03-01 04:00:00  2091.0    332"
      ]
     },
     "execution_count": 280,
     "metadata": {},
     "output_type": "execute_result"
    }
   ],
   "source": [
    "test_datas[0].head()"
   ]
  },
  {
   "cell_type": "code",
   "execution_count": 281,
   "metadata": {},
   "outputs": [],
   "source": [
    "def prediction(train_data, test_data) :\n",
    "    \"\"\"\n",
    "    This function finishes the preprocessing, does the modeling, checks the validity and \n",
    "    preps data for visualisation\n",
    "    \"\"\"\n",
    "    # rest of the preprocessing + modelling of train-data\n",
    "    X = np.array(train_data[['order', 'N']]) # input-muuttujat\n",
    "    y = np.array(train_data['traffic_future']) # output-muuttuja\n",
    "    model = linear_model.LinearRegression()\n",
    "    model.fit(X, y)\n",
    "    train_data['prediction'] = model.predict(X)\n",
    "\n",
    "    # rest of the preprocessing + predicting test-data\n",
    "    X_test = np.array(test_data[['order', 'N']])\n",
    "    test_data['prediction'] = model.predict(X_test)\n",
    "\n",
    "    # Validation \n",
    "    from sklearn import metrics\n",
    "    \n",
    "    # MAE and MSE in train-data\n",
    "    mae = mean_absolute_error(train_data['traffic_future'], train_data['prediction'])\n",
    "    mse = metrics.mean_squared_error(train_data['traffic_future'], train_data['prediction'])\n",
    "    rmse = np.sqrt(metrics.mean_squared_error(train_data['traffic_future'], train_data['prediction']))\n",
    "    train_validation = [mae, rmse]\n",
    "    \n",
    "    print(\"Train-data:\\nMAE: %.f\" % mae)\n",
    "    print(\"MSE: %.f\" % mse)\n",
    "    print(\"RMSE: %.f\" % rmse)\n",
    "\n",
    "    # MAE and MSE in test-data\n",
    "    mae_t = mean_absolute_error(test_data['N'], test_data['prediction'])\n",
    "    mse_t = metrics.mean_squared_error(test_data['N'], test_data['prediction'])\n",
    "    rmse_t = np.sqrt(metrics.mean_squared_error(test_data['N'], test_data['prediction']))\n",
    "    test_validation = [mae_t, rmse_t]\n",
    "    \n",
    "    print(\"\\nTest-data:\\nMAE: %.f\" % mae_t)\n",
    "    print(\"MSE: %.f\" % mse_t)\n",
    "    print(\"RMSE: %.f\" % rmse_t)\n",
    "    \n",
    "    model_coefs = [model.coef_, model.intercept_]\n",
    "    print(\"\\nModel coefficients are \\n\", model.coef_, model.intercept_ )\n",
    "\n",
    "    # preparing for visualisation\n",
    "    train_data.set_index('Aika', inplace=True)\n",
    "    test_data.set_index('Aika', inplace=True)\n",
    "    \n",
    "    return [train_data, test_data, train_validation, test_validation, model_coefs]"
   ]
  },
  {
   "cell_type": "code",
   "execution_count": 282,
   "metadata": {},
   "outputs": [
    {
     "name": "stdout",
     "output_type": "stream",
     "text": [
      "Train-data:\n",
      "MAE: 982\n",
      "MSE: 5847104\n",
      "RMSE: 2418\n",
      "\n",
      "Test-data:\n",
      "MAE: 361\n",
      "MSE: 180396\n",
      "RMSE: 425\n",
      "\n",
      "Model coefficients are \n",
      " [-1.27930006  0.968962  ] 880.2135698342845\n",
      "\n",
      "train_head:                           N  order  traffic_future   prediction\n",
      "Aika                                                           \n",
      "2020-01-15 00:00:00  1620.0   1104         12650.0  1037.584750\n",
      "2020-01-15 01:00:00  1127.0   1103         11666.0   561.165784\n",
      "2020-01-15 02:00:00  1037.0   1102          8620.0   475.238504\n",
      "2020-01-15 03:00:00   997.0   1101          6654.0   437.759324\n",
      "2020-01-15 04:00:00  2034.0   1100          5784.0  1443.852219\n",
      "\n",
      "test_head:                           N  order   prediction\n",
      "Aika                                           \n",
      "2020-03-01 00:00:00  4182.0    336  4502.567841\n",
      "2020-03-01 01:00:00  3008.0    335  3366.285751\n",
      "2020-03-01 02:00:00  2416.0    334  2793.939547\n",
      "2020-03-01 03:00:00  2021.0    333  2412.478856\n",
      "2020-03-01 04:00:00  2091.0    332  2481.585496\n"
     ]
    }
   ],
   "source": [
    "# first prediction : train-data mid Jan to end of Feb. Test-data first 2 weeks of March.\n",
    "prediction1 = prediction(train_datas[0], test_datas[0])\n",
    "print(\"\\ntrain_head:\", prediction1[0].head())\n",
    "print(\"\\ntest_head:\", prediction1[1].head())"
   ]
  },
  {
   "cell_type": "code",
   "execution_count": 283,
   "metadata": {},
   "outputs": [
    {
     "name": "stdout",
     "output_type": "stream",
     "text": [
      "Train-data:\n",
      "MAE: 975\n",
      "MSE: 5021656\n",
      "RMSE: 2241\n",
      "\n",
      "Test-data:\n",
      "MAE: 532\n",
      "MSE: 347498\n",
      "RMSE: 589\n",
      "\n",
      "Model coefficients are \n",
      " [-1.16774737  0.97582259] 1050.6536909966944\n",
      "\n",
      "train_head:                           N  order  traffic_future   prediction\n",
      "Aika                                                           \n",
      "2020-01-15 00:00:00  1620.0   1440         12650.0   949.930071\n",
      "2020-01-15 01:00:00  1127.0   1439         11666.0   470.017284\n",
      "2020-01-15 02:00:00  1037.0   1438          8620.0   383.360999\n",
      "2020-01-15 03:00:00   997.0   1437          6654.0   345.495843\n",
      "2020-01-15 04:00:00  2034.0   1436          5784.0  1358.591611\n",
      "\n",
      "test_head:                           N  order   prediction\n",
      "Aika                                           \n",
      "2020-03-15 00:00:00  3235.0    408  3730.998829\n",
      "2020-03-15 01:00:00  2418.0    407  2934.919524\n",
      "2020-03-15 02:00:00  1925.0    406  2455.006737\n",
      "2020-03-15 03:00:00  1714.0    405  2250.275919\n",
      "2020-03-15 04:00:00  1635.0    404  2174.353682\n"
     ]
    }
   ],
   "source": [
    "# Second prediction : train-data mid-Jan to Mid-March. Test-data last 2 weeks of March.\n",
    "prediction2 = prediction(train_datas[1], test_datas[1])\n",
    "print(\"\\ntrain_head:\", prediction2[0].head())\n",
    "print(\"\\ntest_head:\", prediction2[1].head())"
   ]
  },
  {
   "cell_type": "code",
   "execution_count": 284,
   "metadata": {},
   "outputs": [
    {
     "name": "stdout",
     "output_type": "stream",
     "text": [
      "Train-data:\n",
      "MAE: 1771\n",
      "MSE: 7922823\n",
      "RMSE: 2815\n",
      "\n",
      "Test-data:\n",
      "MAE: 3069\n",
      "MSE: 9508615\n",
      "RMSE: 3084\n",
      "\n",
      "Model coefficients are \n",
      " [-3.07801224  1.00908225] 3492.9911463012686\n",
      "\n",
      "train_head:                           N  order  traffic_future   prediction\n",
      "Aika                                                           \n",
      "2020-01-15 00:00:00  1620.0   1848         12650.0  -560.462221\n",
      "2020-01-15 01:00:00  1127.0   1847         11666.0 -1054.861759\n",
      "2020-01-15 02:00:00  1037.0   1846          8620.0 -1142.601150\n",
      "2020-01-15 03:00:00   997.0   1845          6654.0 -1179.886428\n",
      "2020-01-15 04:00:00  2034.0   1844          5784.0  -130.390120\n",
      "\n",
      "test_head:                           N  order   prediction\n",
      "Aika                                           \n",
      "2020-04-01 00:00:00  1406.0    336  3877.548681\n",
      "2020-04-01 01:00:00   942.0    335  3412.412528\n",
      "2020-04-01 02:00:00   795.0    334  3267.155450\n",
      "2020-04-01 03:00:00   806.0    333  3281.333367\n",
      "2020-04-01 04:00:00  1658.0    332  4144.149458\n"
     ]
    }
   ],
   "source": [
    "# Third prediction : train-data mid-Jan to end of March. Test-data first 2 weeks of April.\n",
    "prediction3 = prediction(train_datas[2], test_datas[2])\n",
    "print(\"\\ntrain_head:\", prediction3[0].head())\n",
    "print(\"\\ntest_head:\", prediction3[1].head())"
   ]
  },
  {
   "cell_type": "code",
   "execution_count": 285,
   "metadata": {},
   "outputs": [
    {
     "name": "stdout",
     "output_type": "stream",
     "text": [
      "Train-data:\n",
      "MAE: 1759\n",
      "MSE: 8741038\n",
      "RMSE: 2957\n",
      "\n",
      "Test-data:\n",
      "MAE: 2608\n",
      "MSE: 6870558\n",
      "RMSE: 2621\n",
      "\n",
      "Model coefficients are \n",
      " [-2.00107263  1.01233527] 2834.7623353258823\n",
      "\n",
      "train_head:                           N  order  traffic_future  prediction\n",
      "Aika                                                          \n",
      "2020-01-15 00:00:00  1620.0   2184         12650.0  104.402839\n",
      "2020-01-15 01:00:00  1127.0   2183         11666.0 -392.677376\n",
      "2020-01-15 02:00:00  1037.0   2182          8620.0 -481.786477\n",
      "2020-01-15 03:00:00   997.0   2181          6654.0 -520.278815\n",
      "2020-01-15 04:00:00  2034.0   2180          5784.0  531.513930\n",
      "\n",
      "test_head:                           N  order   prediction\n",
      "Aika                                           \n",
      "2020-04-15 00:00:00  1384.0    384  3467.422455\n",
      "2020-04-15 01:00:00   948.0    383  3028.045351\n",
      "2020-04-15 02:00:00   772.0    382  2851.875416\n",
      "2020-04-15 03:00:00   799.0    381  2881.209541\n",
      "2020-04-15 04:00:00  1575.0    380  3668.782782\n"
     ]
    }
   ],
   "source": [
    "# Fourth prediction : train-data mid-Jan to mid-April. Test-data last 2 weeks of April.\n",
    "prediction4 = prediction(train_datas[3], test_datas[3])\n",
    "print(\"\\ntrain_head:\", prediction4[0].head())\n",
    "print(\"\\ntest_head:\", prediction4[1].head())"
   ]
  },
  {
   "cell_type": "code",
   "execution_count": 286,
   "metadata": {},
   "outputs": [
    {
     "name": "stdout",
     "output_type": "stream",
     "text": [
      "Train-data:\n",
      "MAE: 1819\n",
      "MSE: 11486386\n",
      "RMSE: 3389\n",
      "\n",
      "Test-data:\n",
      "MAE: 667\n",
      "MSE: 478595\n",
      "RMSE: 692\n",
      "\n",
      "Model coefficients are \n",
      " [-0.22861335  0.98106793] 956.8786413670259\n",
      "\n",
      "train_head:                           N  order  traffic_future   prediction\n",
      "Aika                                                           \n",
      "2020-01-15 00:00:00  1620.0   2568         12650.0  1959.129590\n",
      "2020-01-15 01:00:00  1127.0   2567         11666.0  1475.691716\n",
      "2020-01-15 02:00:00  1037.0   2566          8620.0  1387.624216\n",
      "2020-01-15 03:00:00   997.0   2565          6654.0  1348.610112\n",
      "2020-01-15 04:00:00  2034.0   2564          5784.0  2366.206165\n",
      "\n",
      "test_head:                           N  order   prediction\n",
      "Aika                                           \n",
      "2020-05-01 00:00:00  3017.0    336  3839.946486\n",
      "2020-05-01 01:00:00  2205.0    335  3043.547944\n",
      "2020-05-01 02:00:00  1676.0    334  2524.791625\n",
      "2020-05-01 03:00:00  1285.0    333  2141.422679\n",
      "2020-05-01 04:00:00  1181.0    332  2039.620228\n"
     ]
    }
   ],
   "source": [
    "# Fifth prediction : train-data mid-Jan to end of April. Test-data first 2 weeks of May.\n",
    "prediction5 = prediction(train_datas[4], test_datas[4])\n",
    "print(\"\\ntrain_head:\", prediction5[0].head())\n",
    "print(\"\\ntest_head:\", prediction5[1].head())"
   ]
  },
  {
   "cell_type": "code",
   "execution_count": 287,
   "metadata": {},
   "outputs": [
    {
     "name": "stdout",
     "output_type": "stream",
     "text": [
      "Train-data:\n",
      "MAE: 1801\n",
      "MSE: 11125692\n",
      "RMSE: 3336\n",
      "\n",
      "Test-data:\n",
      "MAE: 297\n",
      "MSE: 135848\n",
      "RMSE: 369\n",
      "\n",
      "Model coefficients are \n",
      " [0.04634873 0.97337391] 611.4008301486374\n",
      "\n",
      "train_head:                           N  order  traffic_future   prediction\n",
      "Aika                                                           \n",
      "2020-01-15 00:00:00  1620.0   2904         12650.0  2322.863285\n",
      "2020-01-15 01:00:00  1127.0   2903         11666.0  1842.943598\n",
      "2020-01-15 02:00:00  1037.0   2902          8620.0  1755.293597\n",
      "2020-01-15 03:00:00   997.0   2901          6654.0  1716.312292\n",
      "2020-01-15 04:00:00  2034.0   2900          5784.0  2725.654690\n",
      "\n",
      "test_head:                           N  order   prediction\n",
      "Aika                                           \n",
      "2020-05-15 00:00:00  1845.0    408  2426.185980\n",
      "2020-05-15 01:00:00  1196.0    407  1794.419963\n",
      "2020-05-15 02:00:00   911.0    406  1516.962049\n",
      "2020-05-15 03:00:00   927.0    405  1532.489683\n",
      "2020-05-15 04:00:00  1840.0    404  2421.133716\n"
     ]
    }
   ],
   "source": [
    "# Sixth prediction : train-data mid-Jan to mid-May. Test-data last 2 weeks of May.\n",
    "prediction6 = prediction(train_datas[5], test_datas[5])\n",
    "print(\"\\ntrain_head:\", prediction6[0].head())\n",
    "print(\"\\ntest_head:\", prediction6[1].head())"
   ]
  },
  {
   "cell_type": "code",
   "execution_count": 290,
   "metadata": {},
   "outputs": [
    {
     "name": "stdout",
     "output_type": "stream",
     "text": [
      "                 mae         rmse\n",
      "1/March   360.617124   424.730844\n",
      "2/March   532.254037   589.489512\n",
      "3/April  3068.904147  3083.604271\n",
      "4/April  2608.219973  2621.174947\n",
      "5/May     666.661560   691.805321\n",
      "6/May     297.178524   368.575414\n"
     ]
    },
    {
     "data": {
      "image/png": "[encoded data removed]",
      "text/plain": [
       "<Figure size 432x288 with 1 Axes>"
      ]
     },
     "metadata": {
      "needs_background": "light"
     },
     "output_type": "display_data"
    }
   ],
   "source": [
    "# Visualising MAE and RMSE to see changes in validity. \n",
    "lists = [prediction1[3], prediction2[3], prediction3[3], prediction4[3], prediction5[3], prediction6[3]]\n",
    "df_validation = pd.concat([pd.Series(x) for x in lists], axis=1).T\n",
    "df_validation.columns = ['mae', 'rmse']\n",
    "df_validation.index = ['1/March', '2/March','3/April', '4/April', '5/May', '6/May']\n",
    "print(df_validation)\n",
    "\n",
    "df_validation.plot()\n",
    "plt.legend()\n",
    "plt.savefig('validation.jpg')"
   ]
  },
  {
   "cell_type": "code",
   "execution_count": null,
   "metadata": {},
   "outputs": [],
   "source": [
    "# visualising - vanha\n",
    "train1_cl['N'].plot(color='blue', figsize=(15, 6))\n",
    "test1_cl['N'].plot(color='green')\n",
    "train1_cl['prediction'].plot(color='yellow')\n",
    "test1_cl['prediction'].plot(color='red')\n",
    "plt.savefig('prediction_1_March01-14.jpeg')"
   ]
  }
 ],
 "metadata": {
  "kernelspec": {
   "display_name": "Python 3",
   "language": "python",
   "name": "python3"
  },
  "language_info": {
   "codemirror_mode": {
    "name": "ipython",
    "version": 3
   },
   "file_extension": ".py",
   "mimetype": "text/x-python",
   "name": "python",
   "nbconvert_exporter": "python",
   "pygments_lexer": "ipython3",
   "version": "3.7.4"
  }
 },
 "nbformat": 4,
 "nbformat_minor": 2
}
